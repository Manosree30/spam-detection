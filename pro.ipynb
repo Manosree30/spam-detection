{
 "cells": [
  {
   "cell_type": "code",
   "execution_count": 166,
   "id": "934b8374",
   "metadata": {},
   "outputs": [],
   "source": [
    "import pandas as pd\n",
    "import numpy as np\n",
    "import matplotlib.pyplot as plt\n",
    "import seaborn as sns\n",
    "\n",
    "from sklearn.model_selection import train_test_split  \n",
    "from sklearn.naive_bayes import MultinomialNB\n",
    "from sklearn.metrics import accuracy_score, classification_report\n",
    "\n",
    "import pickle\n"
   ]
  },
  {
   "cell_type": "code",
   "execution_count": 167,
   "id": "62faa023",
   "metadata": {},
   "outputs": [],
   "source": [
    "df = pd.read_csv(\"spam.csv\", encoding=\"latin-1\")[['v1','v2']]\n",
    "df.columns=['label','message']\n",
    "df['is_spam'] = df['label'].map({'ham':0,'spam':1})\n",
    "df['word_freq_free'] = df['message'].str.lower().str.count('free')\n",
    "df['word_freq_win'] = df['message'].str.lower().str.count('win')\n",
    "df['word_freq_offer'] = df['message'].str.lower().str.count('offer')\n",
    "df['sms_length'] = df['message'].str.len()\n"
   ]
  },
  {
   "cell_type": "code",
   "execution_count": 168,
   "id": "52a60a40",
   "metadata": {},
   "outputs": [
    {
     "data": {
      "text/html": [
       "<div>\n",
       "<style scoped>\n",
       "    .dataframe tbody tr th:only-of-type {\n",
       "        vertical-align: middle;\n",
       "    }\n",
       "\n",
       "    .dataframe tbody tr th {\n",
       "        vertical-align: top;\n",
       "    }\n",
       "\n",
       "    .dataframe thead th {\n",
       "        text-align: right;\n",
       "    }\n",
       "</style>\n",
       "<table border=\"1\" class=\"dataframe\">\n",
       "  <thead>\n",
       "    <tr style=\"text-align: right;\">\n",
       "      <th></th>\n",
       "      <th>label</th>\n",
       "      <th>message</th>\n",
       "      <th>is_spam</th>\n",
       "      <th>word_freq_free</th>\n",
       "      <th>word_freq_win</th>\n",
       "      <th>word_freq_offer</th>\n",
       "      <th>sms_length</th>\n",
       "    </tr>\n",
       "  </thead>\n",
       "  <tbody>\n",
       "    <tr>\n",
       "      <th>0</th>\n",
       "      <td>ham</td>\n",
       "      <td>Go until jurong point, crazy.. Available only ...</td>\n",
       "      <td>0</td>\n",
       "      <td>0</td>\n",
       "      <td>0</td>\n",
       "      <td>0</td>\n",
       "      <td>111</td>\n",
       "    </tr>\n",
       "    <tr>\n",
       "      <th>1</th>\n",
       "      <td>ham</td>\n",
       "      <td>Ok lar... Joking wif u oni...</td>\n",
       "      <td>0</td>\n",
       "      <td>0</td>\n",
       "      <td>0</td>\n",
       "      <td>0</td>\n",
       "      <td>29</td>\n",
       "    </tr>\n",
       "    <tr>\n",
       "      <th>2</th>\n",
       "      <td>spam</td>\n",
       "      <td>Free entry in 2 a wkly comp to win FA Cup fina...</td>\n",
       "      <td>1</td>\n",
       "      <td>1</td>\n",
       "      <td>1</td>\n",
       "      <td>0</td>\n",
       "      <td>155</td>\n",
       "    </tr>\n",
       "    <tr>\n",
       "      <th>3</th>\n",
       "      <td>ham</td>\n",
       "      <td>U dun say so early hor... U c already then say...</td>\n",
       "      <td>0</td>\n",
       "      <td>0</td>\n",
       "      <td>0</td>\n",
       "      <td>0</td>\n",
       "      <td>49</td>\n",
       "    </tr>\n",
       "    <tr>\n",
       "      <th>4</th>\n",
       "      <td>ham</td>\n",
       "      <td>Nah I don't think he goes to usf, he lives aro...</td>\n",
       "      <td>0</td>\n",
       "      <td>0</td>\n",
       "      <td>0</td>\n",
       "      <td>0</td>\n",
       "      <td>61</td>\n",
       "    </tr>\n",
       "  </tbody>\n",
       "</table>\n",
       "</div>"
      ],
      "text/plain": [
       "  label                                            message  is_spam  \\\n",
       "0   ham  Go until jurong point, crazy.. Available only ...        0   \n",
       "1   ham                      Ok lar... Joking wif u oni...        0   \n",
       "2  spam  Free entry in 2 a wkly comp to win FA Cup fina...        1   \n",
       "3   ham  U dun say so early hor... U c already then say...        0   \n",
       "4   ham  Nah I don't think he goes to usf, he lives aro...        0   \n",
       "\n",
       "   word_freq_free  word_freq_win  word_freq_offer  sms_length  \n",
       "0               0              0                0         111  \n",
       "1               0              0                0          29  \n",
       "2               1              1                0         155  \n",
       "3               0              0                0          49  \n",
       "4               0              0                0          61  "
      ]
     },
     "execution_count": 168,
     "metadata": {},
     "output_type": "execute_result"
    }
   ],
   "source": [
    "df.head()"
   ]
  },
  {
   "cell_type": "code",
   "execution_count": 169,
   "id": "98638d67",
   "metadata": {},
   "outputs": [
    {
     "name": "stdout",
     "output_type": "stream",
     "text": [
      "   word_freq_free  word_freq_win  word_freq_offer  sms_length  is_spam\n",
      "0               0              0                0         111        0\n",
      "1               0              0                0          29        0\n",
      "2               1              1                0         155        1\n",
      "3               0              0                0          49        0\n",
      "4               0              0                0          61        0\n"
     ]
    }
   ],
   "source": [
    "df_features = df[['word_freq_free','word_freq_win','word_freq_offer','sms_length','is_spam']]\n",
    "print(df_features.head())\n"
   ]
  },
  {
   "cell_type": "code",
   "execution_count": 170,
   "id": "037cf898",
   "metadata": {},
   "outputs": [
    {
     "data": {
      "text/plain": [
       "(5572, 7)"
      ]
     },
     "execution_count": 170,
     "metadata": {},
     "output_type": "execute_result"
    }
   ],
   "source": [
    "df.shape"
   ]
  },
  {
   "cell_type": "code",
   "execution_count": 171,
   "id": "41877c27",
   "metadata": {},
   "outputs": [
    {
     "data": {
      "text/plain": [
       "label              0\n",
       "message            0\n",
       "is_spam            0\n",
       "word_freq_free     0\n",
       "word_freq_win      0\n",
       "word_freq_offer    0\n",
       "sms_length         0\n",
       "dtype: int64"
      ]
     },
     "execution_count": 171,
     "metadata": {},
     "output_type": "execute_result"
    }
   ],
   "source": [
    "df.isnull().sum()"
   ]
  },
  {
   "cell_type": "code",
   "execution_count": 172,
   "id": "5446df19",
   "metadata": {},
   "outputs": [
    {
     "data": {
      "text/plain": [
       "label                 2\n",
       "message            5169\n",
       "is_spam               2\n",
       "word_freq_free        4\n",
       "word_freq_win         4\n",
       "word_freq_offer       3\n",
       "sms_length          274\n",
       "dtype: int64"
      ]
     },
     "execution_count": 172,
     "metadata": {},
     "output_type": "execute_result"
    }
   ],
   "source": [
    "df.nunique()"
   ]
  },
  {
   "cell_type": "code",
   "execution_count": 173,
   "id": "ef1c3bff",
   "metadata": {},
   "outputs": [
    {
     "name": "stdout",
     "output_type": "stream",
     "text": [
      "label\n",
      "ham     4825\n",
      "spam     747\n",
      "Name: count, dtype: int64\n"
     ]
    }
   ],
   "source": [
    "print(df['label'].value_counts())"
   ]
  },
  {
   "cell_type": "code",
   "execution_count": 174,
   "id": "559fb77e",
   "metadata": {},
   "outputs": [
    {
     "data": {
      "image/png": "[encoded data removed]",
      "text/plain": [
       "<Figure size 640x480 with 2 Axes>"
      ]
     },
     "metadata": {},
     "output_type": "display_data"
    }
   ],
   "source": [
    "\n",
    "features = ['word_freq_free','word_freq_win','word_freq_offer','sms_length','is_spam']\n",
    "sns.heatmap(df[features].corr(), annot=True, cmap='coolwarm')\n",
    "plt.title('Feature Correlation Heatmap')\n",
    "plt.show()\n"
   ]
  },
  {
   "cell_type": "code",
   "execution_count": 175,
   "id": "82b740c8",
   "metadata": {},
   "outputs": [
    {
     "name": "stdout",
     "output_type": "stream",
     "text": [
      "Accuracy: 0.8923766816143498\n",
      "\n",
      "Classification Report:\n",
      "               precision    recall  f1-score   support\n",
      "\n",
      "           0       0.90      0.99      0.94       965\n",
      "           1       0.76      0.29      0.42       150\n",
      "\n",
      "    accuracy                           0.89      1115\n",
      "   macro avg       0.83      0.64      0.68      1115\n",
      "weighted avg       0.88      0.89      0.87      1115\n",
      "\n"
     ]
    }
   ],
   "source": [
    "X = df_features[['word_freq_free','word_freq_win','word_freq_offer','sms_length']]\n",
    "y = df_features['is_spam']\n",
    "\n",
    "X_train, X_test, y_train, y_test = train_test_split(X, y, test_size=0.2, random_state=42)\n",
    "\n",
    "model =MultinomialNB()\n",
    "model.fit(X_train, y_train)\n",
    "y_pred = model.predict(X_test)\n",
    "print(\"Accuracy:\", accuracy_score(y_test, y_pred))\n",
    "print(\"\\nClassification Report:\\n\", classification_report(y_test, y_pred))"
   ]
  },
  {
   "cell_type": "code",
   "execution_count": 176,
   "id": "ca156f5d",
   "metadata": {},
   "outputs": [
    {
     "name": "stdout",
     "output_type": "stream",
     "text": [
      "\n",
      "Prediction for new SMS: Spam\n"
     ]
    }
   ],
   "source": [
    "#  Predict a new SMS\n",
    "# Example: high 'offer' and 'free' frequencies\n",
    "new_sms = pd.DataFrame({\n",
    "    'word_freq_free': [3],\n",
    "    'word_freq_win': [0],\n",
    "    'word_freq_offer': [4],\n",
    "    'sms_length': [80]\n",
    "})\n",
    "\n",
    "prediction = model.predict(new_sms)\n",
    "print(\"\\nPrediction for new SMS:\", \"Spam\" if prediction[0]==1 else \"Not Spam\")"
   ]
  },
  {
   "cell_type": "code",
   "execution_count": 177,
   "id": "3ee37733",
   "metadata": {},
   "outputs": [],
   "source": [
    "with open('naive_bayes_sms_model.pkl', 'wb') as file:\n",
    "    pickle.dump(model, file)"
   ]
  }
 ],
 "metadata": {
  "kernelspec": {
   "display_name": "Python 3",
   "language": "python",
   "name": "python3"
  },
  "language_info": {
   "codemirror_mode": {
    "name": "ipython",
    "version": 3
   },
   "file_extension": ".py",
   "mimetype": "text/x-python",
   "name": "python",
   "nbconvert_exporter": "python",
   "pygments_lexer": "ipython3",
   "version": "3.10.18"
  }
 },
 "nbformat": 4,
 "nbformat_minor": 5
}
